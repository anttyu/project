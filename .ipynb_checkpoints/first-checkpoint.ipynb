{
 "cells": [
  {
   "cell_type": "code",
   "execution_count": 60,
   "id": "0ffb289a",
   "metadata": {
    "scrolled": true
   },
   "outputs": [
    {
     "ename": "SyntaxError",
     "evalue": "unexpected EOF while parsing (523513074.py, line 25)",
     "output_type": "error",
     "traceback": [
      "\u001b[1;36m  Input \u001b[1;32mIn [60]\u001b[1;36m\u001b[0m\n\u001b[1;33m    width = 200) # Задаем ширину картинки\u001b[0m\n\u001b[1;37m                                         ^\u001b[0m\n\u001b[1;31mSyntaxError\u001b[0m\u001b[1;31m:\u001b[0m unexpected EOF while parsing\n"
     ]
    }
   ],
   "source": [
    "import requests\n",
    "from urllib.request import urlopen\n",
    "from lxml import etree\n",
    "from PIL import Image\n",
    "from io import BytesIO\n",
    "from IPython.display import Image\n",
    "\n",
    "url = 'https://scikit-learn.org/stable/tutorial/statistical_inference/supervised_learning.html'\n",
    "headers = {'Content-Type': 'text/html',}\n",
    "response = requests.get(url, headers=headers)\n",
    "html = response.text\n",
    "with open ('scikit_learning_html', 'w') as f:\n",
    "    f.write(html)\n",
    "    \n",
    "local = 'file:///C:/Users/tonit/project/scikit_learning_html'\n",
    "response = urlopen(local)\n",
    "htmlparser = etree.HTMLParser()\n",
    "tree = etree.parse(response, htmlparser)\n",
    "links = tree.xpath('//img[starts-with(@class, \"align\")]/@src')\n",
    "url1 = 'https://scikit-learn.org/stable'\n",
    "links[0] = url1 + links[0][5:]    \n",
    "    \n",
    "\n",
    "display(Image(links[0], width = 400) "
   ]
  },
  {
   "cell_type": "code",
   "execution_count": null,
   "id": "2acc7398",
   "metadata": {},
   "outputs": [],
   "source": []
  }
 ],
 "metadata": {
  "kernelspec": {
   "display_name": "Python 3 (ipykernel)",
   "language": "python",
   "name": "python3"
  },
  "language_info": {
   "codemirror_mode": {
    "name": "ipython",
    "version": 3
   },
   "file_extension": ".py",
   "mimetype": "text/x-python",
   "name": "python",
   "nbconvert_exporter": "python",
   "pygments_lexer": "ipython3",
   "version": "3.9.12"
  }
 },
 "nbformat": 4,
 "nbformat_minor": 5
}
