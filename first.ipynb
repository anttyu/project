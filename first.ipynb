{
 "cells": [
  {
   "cell_type": "code",
   "execution_count": 28,
   "id": "0ffb289a",
   "metadata": {},
   "outputs": [
    {
     "name": "stdout",
     "output_type": "stream",
     "text": [
      "['../../_images/sphx_glr_plot_iris_dataset_001.png', '../../_images/sphx_glr_plot_classification_001.png', '../../_images/sphx_glr_plot_ols_001.png', '../../_images/sphx_glr_plot_ols_ridge_variance_001.png', '../../_images/sphx_glr_plot_ols_ridge_variance_002.png', '../../_images/sphx_glr_plot_logistic_001.png', '../../_images/sphx_glr_plot_iris_logistic_001.png', '../../_images/sphx_glr_plot_iris_dataset_001.png']\n",
      "https://scikit-learn.org/stable/_images/sphx_glr_plot_iris_dataset_001.png\n"
     ]
    }
   ],
   "source": [
    "import requests\n",
    "from urllib.request import urlopen\n",
    "from lxml import etree\n",
    "from PIL import Image\n",
    "from io import BytesIO\n",
    "\n",
    "url = 'https://scikit-learn.org/stable/tutorial/statistical_inference/supervised_learning.html'\n",
    "headers = {'Content-Type': 'text/html',}\n",
    "response = requests.get(url, headers=headers)\n",
    "html = response.text\n",
    "with open ('scikit_learning_html', 'w') as f:\n",
    "    f.write(html)\n",
    "    \n",
    "local = 'file:///C:/Users/tonit/project/scikit_learning_html'\n",
    "response = urlopen(local)\n",
    "htmlparser = etree.HTMLParser()\n",
    "tree = etree.parse(response, htmlparser)\n",
    "links = tree.xpath('//img[starts-with(@class, \"align\")]/@src')\n",
    "url1 = 'https://scikit-learn.org/stable'\n",
    "links[0] = url1 + links[0][5:]\n",
    "\n",
    "img_data = requests.get(links[0]).content\n",
    "with open('image_name.jpg', 'wb') as handler:\n",
    "    handler.write(img_data)"
   ]
  },
  {
   "cell_type": "code",
   "execution_count": null,
   "id": "2acc7398",
   "metadata": {},
   "outputs": [],
   "source": []
  }
 ],
 "metadata": {
  "kernelspec": {
   "display_name": "Python 3 (ipykernel)",
   "language": "python",
   "name": "python3"
  },
  "language_info": {
   "codemirror_mode": {
    "name": "ipython",
    "version": 3
   },
   "file_extension": ".py",
   "mimetype": "text/x-python",
   "name": "python",
   "nbconvert_exporter": "python",
   "pygments_lexer": "ipython3",
   "version": "3.9.12"
  }
 },
 "nbformat": 4,
 "nbformat_minor": 5
}
