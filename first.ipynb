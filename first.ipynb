{
 "cells": [
  {
   "cell_type": "code",
   "execution_count": 3,
   "id": "0ffb289a",
   "metadata": {},
   "outputs": [
    {
     "data": {
      "text/plain": [
       "[]"
      ]
     },
     "execution_count": 3,
     "metadata": {},
     "output_type": "execute_result"
    }
   ],
   "source": [
    "import requests\n",
    "from urllib.request import urlopen\n",
    "from lxml import etree\n",
    "\n",
    "# get html from site and write to local file\n",
    "\n",
    "url = 'https://scikit-learn.org/stable/tutorial/statistical_inference/supervised_learning.html'\n",
    "headers = {'Content-Type': 'text/html',}\n",
    "response = requests.get(url, headers=headers)\n",
    "html = response.text\n",
    "with open ('scikit_learning_html', 'w') as f:\n",
    "    f.write(html)\n",
    "    \n",
    "local = 'file:///C:/Users/tonit/project/scikit_learning_html'\n",
    "response = urlopen(local)\n",
    "htmlparser = etree.HTMLParser()\n",
    "tree = etree.parse(response, htmlparser)\n",
    "tree.xpath('//png[starts-with(@class, \"align\")]/@src')"
   ]
  },
  {
   "cell_type": "code",
   "execution_count": null,
   "id": "2acc7398",
   "metadata": {},
   "outputs": [],
   "source": []
  }
 ],
 "metadata": {
  "kernelspec": {
   "display_name": "Python 3 (ipykernel)",
   "language": "python",
   "name": "python3"
  },
  "language_info": {
   "codemirror_mode": {
    "name": "ipython",
    "version": 3
   },
   "file_extension": ".py",
   "mimetype": "text/x-python",
   "name": "python",
   "nbconvert_exporter": "python",
   "pygments_lexer": "ipython3",
   "version": "3.9.12"
  }
 },
 "nbformat": 4,
 "nbformat_minor": 5
}
